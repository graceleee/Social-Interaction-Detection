{
 "cells": [
  {
   "cell_type": "code",
   "execution_count": null,
   "metadata": {
    "id": "mxaAbEopTHCl"
   },
   "outputs": [],
   "source": [
    "# We'll need numpy for some mathematical operations\n",
    "import numpy as np\n",
    "\n",
    "# matplotlib for displaying the output\n",
    "import matplotlib.pyplot as plt\n",
    "%matplotlib inline\n",
    "\n",
    "# and IPython.display for audio output\n",
    "import IPython.display\n",
    "\n",
    "# Librosa for audio\n",
    "import librosa\n",
    "# And the display module for visualization\n",
    "import librosa.display"
   ]
  },
  {
   "cell_type": "code",
   "execution_count": null,
   "metadata": {
    "colab": {
     "base_uri": "https://localhost:8080/"
    },
    "executionInfo": {
     "elapsed": 25054,
     "status": "ok",
     "timestamp": 1606631676756,
     "user": {
      "displayName": "Grace W Lee",
      "photoUrl": "",
      "userId": "07809344776771968288"
     },
     "user_tz": 360
    },
    "id": "iHYs07qUThNY",
    "outputId": "6b8b4186-5ce0-4a19-a2b9-6ae32e899a16"
   },
   "outputs": [
    {
     "name": "stdout",
     "output_type": "stream",
     "text": [
      "Mounted at /content/drive\n"
     ]
    }
   ],
   "source": [
    "from google.colab import drive\n",
    "drive.mount('/content/drive')"
   ]
  },
  {
   "cell_type": "code",
   "execution_count": null,
   "metadata": {
    "id": "8xCJ0AyjTxtZ"
   },
   "outputs": [],
   "source": [
    "import os\n",
    "import io\n",
    "dir = \"/content/drive/My Drive/Activity Sensing/Final Project/Audio/\""
   ]
  },
  {
   "cell_type": "markdown",
   "metadata": {
    "id": "vee0oFotUOa9"
   },
   "source": [
    "# Import files"
   ]
  },
  {
   "cell_type": "code",
   "execution_count": null,
   "metadata": {
    "colab": {
     "base_uri": "https://localhost:8080/"
    },
    "executionInfo": {
     "elapsed": 23270,
     "status": "ok",
     "timestamp": 1606631805471,
     "user": {
      "displayName": "Grace W Lee",
      "photoUrl": "",
      "userId": "07809344776771968288"
     },
     "user_tz": 360
    },
    "id": "o6--ioCBUHiX",
    "outputId": "406663b2-b80c-4ff7-c79b-eb3414f01b1d"
   },
   "outputs": [
    {
     "name": "stdout",
     "output_type": "stream",
     "text": [
      "2P1 new.mp3\n",
      "2P3 new.mp3\n",
      "2P2 new.mp3\n",
      "3new.mp3\n",
      "5new.mp3\n",
      "6new.mp3\n",
      "7new.mp3\n",
      "星期日 10-50_short.mp3\n",
      "Chatting(國台英).mp3\n",
      "Chatting01.mp3\n"
     ]
    }
   ],
   "source": [
    "# two_people_dir = '2PeopleChatting'\n",
    "# two_people_path = dir + two_people_dir + '/' + '3.mp3'\n",
    "# y_two_people, sr_two_people = librosa.load(two_people_path)\n",
    "y_two_people_arr = []\n",
    "sr_two_people_arr = []\n",
    "two_people_dir = 'short/2PeopleChatting'\n",
    "two_people_path = dir + two_people_dir + '/'\n",
    "i = 0\n",
    "for filename in os.listdir(two_people_path):\n",
    "  if i < 10:\n",
    "    y_two_people, sr_two_people = librosa.load(two_people_path + filename)\n",
    "    y_two_people_arr.append(y_two_people)\n",
    "    sr_two_people_arr.append(sr_two_people)\n",
    "    print(filename)\n",
    "  i = i+1"
   ]
  },
  {
   "cell_type": "code",
   "execution_count": null,
   "metadata": {
    "colab": {
     "base_uri": "https://localhost:8080/"
    },
    "executionInfo": {
     "elapsed": 24415,
     "status": "ok",
     "timestamp": 1606631894676,
     "user": {
      "displayName": "Grace W Lee",
      "photoUrl": "",
      "userId": "07809344776771968288"
     },
     "user_tz": 360
    },
    "id": "HEhiW_UQUbc0",
    "outputId": "095f9203-16b7-4d53-e0b0-e49d82e09773"
   },
   "outputs": [
    {
     "name": "stdout",
     "output_type": "stream",
     "text": [
      "argue1.mp3\n",
      "argue2.mp3\n",
      "argue3.mp3\n",
      "_lady_shopliftsnew.mp3\n",
      "_李喬如韓國瑜new.mp3\n",
      "pompeo_hearing_gets_heated_over_what_trump_told_putin_new.mp3\n",
      "angry_donald_trump__cnn_reporters_new.mp3\n",
      "расстался_с_соней_ссора_и_драка_из-за_______new.mp3\n",
      "헬스장_싸움__자막_new.mp3\n"
     ]
    }
   ],
   "source": [
    "# argue_dir = 'Argue'\n",
    "# argue_path = dir + argue_dir + '/' + 'fay.mp3'\n",
    "# y_argue, sr_argue = librosa.load(argue_path)\n",
    "y_argue_arr = []\n",
    "sr_argue_arr = []\n",
    "argue_dir = 'short/Argue'\n",
    "argue_path = dir + argue_dir + '/'\n",
    "i = 0\n",
    "for filename in os.listdir(argue_path):\n",
    "  if i < 10:\n",
    "    y_argue, sr_argue = librosa.load(argue_path + filename)\n",
    "    y_argue_arr.append(y_argue)\n",
    "    sr_argue_arr.append(sr_argue)\n",
    "    print(filename)\n",
    "  i+=1"
   ]
  },
  {
   "cell_type": "code",
   "execution_count": null,
   "metadata": {
    "colab": {
     "base_uri": "https://localhost:8080/"
    },
    "executionInfo": {
     "elapsed": 35979,
     "status": "ok",
     "timestamp": 1606631994271,
     "user": {
      "displayName": "Grace W Lee",
      "photoUrl": "",
      "userId": "07809344776771968288"
     },
     "user_tz": 360
    },
    "id": "iFM-52OKUsZm",
    "outputId": "181fe2ce-6704-4c9b-d44a-e4a61f6635a4"
   },
   "outputs": [
    {
     "name": "stdout",
     "output_type": "stream",
     "text": [
      "alone4.mp3\n",
      "alone2.mp3\n",
      "alone3.mp3\n",
      "alone 1.mp3\n",
      "alone5.mp3\n",
      "alone9.mp3\n",
      "alone7.mp3\n",
      "alone6.mp3\n",
      "alone10.mp3\n",
      "alone12.mp3\n"
     ]
    }
   ],
   "source": [
    "# person_alone_dir = 'PersonAlone'\n",
    "# person_alone_path = dir + person_alone_dir + '/' + 'alone3.mp3'\n",
    "# y_person_alone, sr_person_alone = librosa.load(person_alone_path)\n",
    "y_alone_arr = []\n",
    "sr_alone_arr = []\n",
    "alone_dir = 'short/Alone'\n",
    "alone_path = dir + alone_dir + '/'\n",
    "i = 0\n",
    "for filename in os.listdir(alone_path):\n",
    "  if i < 10:\n",
    "    y_alone, sr_alone = librosa.load(alone_path + filename)\n",
    "    y_alone_arr.append(y_alone)\n",
    "    sr_alone_arr.append(sr_alone)\n",
    "    print(filename)\n",
    "  i+=1"
   ]
  },
  {
   "cell_type": "code",
   "execution_count": null,
   "metadata": {
    "id": "sZL5yrVBVCsv"
   },
   "outputs": [],
   "source": [
    "# phone_dir = 'Phone'\n",
    "# phone_path = dir + phone_dir + '/' + 'phone3.mp3'\n",
    "# y_phone, sr_phone = librosa.load(phone_path)\n",
    "y_phone_arr = []\n",
    "sr_phone_arr = []\n",
    "phone_dir = 'short/Phone'\n",
    "phone_path = dir + phone_dir + '/'\n",
    "for filename in os.listdir(phone_path):\n",
    "  y_phone, sr_phone = librosa.load(phone_path + filename)\n",
    "  y_phone_arr.append(y_phone)\n",
    "  sr_phone_arr.append(sr_phone)"
   ]
  },
  {
   "cell_type": "code",
   "execution_count": null,
   "metadata": {
    "id": "opMxozavVPhE"
   },
   "outputs": [],
   "source": [
    "# eat_dir = 'Eat'\n",
    "# eat_path = dir + eat_dir + '/' + 'eat1.mp3'\n",
    "# y_eat, sr_eat = librosa.load(eat_path)\n",
    "y_eat_arr = []\n",
    "sr_eat_arr = []\n",
    "eat_dir = 'short/Eat'\n",
    "eat_path = dir + eat_dir + '/'\n",
    "for filename in os.listdir(eat_path):\n",
    "  y_eat, sr_eat = librosa.load(eat_path + filename)\n",
    "  y_eat_arr.append(y_eat)\n",
    "  sr_eat_arr.append(sr_eat)"
   ]
  },
  {
   "cell_type": "code",
   "execution_count": null,
   "metadata": {
    "colab": {
     "base_uri": "https://localhost:8080/"
    },
    "executionInfo": {
     "elapsed": 26805,
     "status": "ok",
     "timestamp": 1606632026154,
     "user": {
      "displayName": "Grace W Lee",
      "photoUrl": "",
      "userId": "07809344776771968288"
     },
     "user_tz": 360
    },
    "id": "T3PJRROsd-Dl",
    "outputId": "51fa1601-8f2a-43eb-8127-708876fb7005"
   },
   "outputs": [
    {
     "name": "stdout",
     "output_type": "stream",
     "text": [
      "lec1.mp3\n",
      "lec2.mp3\n",
      "lec3.mp3\n",
      "python_vs__math_new.mp3\n",
      "maths_for_programmers_introduction__what_is_discrete_mathematics_new.mp3\n",
      "空中族語教室-01阿美族語-02基本句型篇-01_我是阿美族小孩new.mp3\n",
      "空中族語教室-02泰雅族賽考利克語-02基本句型篇-01我是泰雅小孩new.mp3\n",
      "설민석의_조선왕조실록_그_두번째__11화_-_전쟁의신_이순신new.mp3\n",
      "高雄市國昌國中本土語沉浸式教學_七_6-3地殼變動new.mp3\n",
      "урок_1__осн___физика_-_наука_о_природе_new.mp3\n"
     ]
    }
   ],
   "source": [
    "y_lecture_arr = []\n",
    "sr_lecture_arr = []\n",
    "lecture_dir = 'short/Lecture'\n",
    "lecture_path = dir + lecture_dir + '/'\n",
    "i = 0\n",
    "for filename in os.listdir(lecture_path):\n",
    "  if i < 10:\n",
    "    y_lecture, sr_lecture = librosa.load(lecture_path + filename)\n",
    "    y_lecture_arr.append(y_lecture)\n",
    "    sr_lecture_arr.append(sr_lecture)\n",
    "    print(filename)\n",
    "  i+=1"
   ]
  },
  {
   "cell_type": "markdown",
   "metadata": {
    "id": "-L-MLQjmVcDv"
   },
   "source": [
    "# Feature extraction"
   ]
  },
  {
   "cell_type": "code",
   "execution_count": null,
   "metadata": {
    "id": "ja_U1glcVXNa"
   },
   "outputs": [],
   "source": [
    "from sklearn import preprocessing"
   ]
  },
  {
   "cell_type": "code",
   "execution_count": null,
   "metadata": {
    "id": "UcMVZpFqVf1_"
   },
   "outputs": [],
   "source": [
    "def feature_extraction(y, sr, frame_size=256, step_size=128):\n",
    "    for counter in range(0, len(y), step_size):\n",
    "        dataset_frame = y[counter:counter+frame_size]\n",
    "    \n",
    "        # mel-scaled power (energy-squared) spectrogram\n",
    "        S = librosa.feature.melspectrogram(dataset_frame, sr=sr, n_mels=128)\n",
    "    \n",
    "        # Convert to log scale (dB). We'll use the peak power (max) as reference.\n",
    "        log_S = librosa.power_to_db(S, ref=np.max)\n",
    "        \n",
    "        mfcc = librosa.feature.mfcc(S=log_S, n_mfcc=20)\n",
    "        \n",
    "        dataset_frame_features = np.hstack(mfcc)\n",
    "        if counter==0:\n",
    "            dataset_feature_vector = dataset_frame_features\n",
    "        else:\n",
    "            dataset_feature_vector = np.vstack((dataset_feature_vector, dataset_frame_features))\n",
    "        \n",
    "    return dataset_feature_vector"
   ]
  },
  {
   "cell_type": "code",
   "execution_count": null,
   "metadata": {
    "id": "RpYRET1LVh3n"
   },
   "outputs": [],
   "source": [
    "two_people_frame_size = 256\n",
    "two_people_step_size = 128\n",
    "two_people_dataset_feature_vector_arr = [feature_extraction(y_two_people_arr[i], sr_two_people_arr[i], two_people_frame_size, two_people_step_size) for i in range(0, len(y_two_people_arr))]\n",
    "# two_people_dataset_feature_vector = feature_extraction(y_two_people, sr_two_people, two_people_frame_size, two_people_step_size)"
   ]
  },
  {
   "cell_type": "code",
   "execution_count": null,
   "metadata": {
    "id": "XW5iV3ncVj6K"
   },
   "outputs": [],
   "source": [
    "argue_frame_size = 256\n",
    "argue_step_size = 128\n",
    "\n",
    "argue_dataset_feature_vector_arr = [feature_extraction(y_argue_arr[i], sr_argue_arr[i], argue_frame_size, argue_step_size) for i in range(0, len(y_argue_arr))]\n",
    "# argue_dataset_feature_vector = feature_extraction(y_argue, sr_argue, argue_frame_size, argue_step_size)"
   ]
  },
  {
   "cell_type": "code",
   "execution_count": null,
   "metadata": {
    "id": "fGwB0PKwVorA"
   },
   "outputs": [],
   "source": [
    "alone_frame_size = 256\n",
    "alone_step_size = 128\n",
    "\n",
    "alone_dataset_feature_vector_arr = [feature_extraction(y_alone_arr[i], sr_alone_arr[i], alone_frame_size, alone_step_size) for i in range(0, len(y_alone_arr))]\n",
    "# person_alone_dataset_feature_vector = feature_extraction(y_person_alone, sr_person_alone, person_alone_frame_size, person_alone_step_size)"
   ]
  },
  {
   "cell_type": "code",
   "execution_count": null,
   "metadata": {
    "colab": {
     "base_uri": "https://localhost:8080/",
     "height": 237
    },
    "executionInfo": {
     "elapsed": 1070599,
     "status": "error",
     "timestamp": 1606633124350,
     "user": {
      "displayName": "Grace W Lee",
      "photoUrl": "",
      "userId": "07809344776771968288"
     },
     "user_tz": 360
    },
    "id": "1S-v6L4vVrQJ",
    "outputId": "59eedae0-05d9-4874-d141-25d9e05c8f84"
   },
   "outputs": [
    {
     "ename": "NameError",
     "evalue": "ignored",
     "output_type": "error",
     "traceback": [
      "\u001b[0;31m---------------------------------------------------------------------------\u001b[0m",
      "\u001b[0;31mNameError\u001b[0m                                 Traceback (most recent call last)",
      "\u001b[0;32m<ipython-input-13-069b88d484ef>\u001b[0m in \u001b[0;36m<module>\u001b[0;34m()\u001b[0m\n\u001b[1;32m      2\u001b[0m \u001b[0mphone_step_size\u001b[0m \u001b[0;34m=\u001b[0m \u001b[0;36m128\u001b[0m\u001b[0;34m\u001b[0m\u001b[0;34m\u001b[0m\u001b[0m\n\u001b[1;32m      3\u001b[0m \u001b[0;34m\u001b[0m\u001b[0m\n\u001b[0;32m----> 4\u001b[0;31m \u001b[0mphone_dataset_feature_vector_arr\u001b[0m \u001b[0;34m=\u001b[0m \u001b[0;34m[\u001b[0m\u001b[0mfeature_extraction\u001b[0m\u001b[0;34m(\u001b[0m\u001b[0my_phone_arr\u001b[0m\u001b[0;34m[\u001b[0m\u001b[0mi\u001b[0m\u001b[0;34m]\u001b[0m\u001b[0;34m,\u001b[0m \u001b[0msr_phone_arr\u001b[0m\u001b[0;34m[\u001b[0m\u001b[0mi\u001b[0m\u001b[0;34m]\u001b[0m\u001b[0;34m,\u001b[0m \u001b[0mphone_frame_size\u001b[0m\u001b[0;34m,\u001b[0m \u001b[0mphone_step_size\u001b[0m\u001b[0;34m)\u001b[0m \u001b[0;32mfor\u001b[0m \u001b[0mi\u001b[0m \u001b[0;32min\u001b[0m \u001b[0mrange\u001b[0m\u001b[0;34m(\u001b[0m\u001b[0;36m0\u001b[0m\u001b[0;34m,\u001b[0m \u001b[0mlen\u001b[0m\u001b[0;34m(\u001b[0m\u001b[0my_phone_arr\u001b[0m\u001b[0;34m)\u001b[0m\u001b[0;34m)\u001b[0m\u001b[0;34m]\u001b[0m\u001b[0;34m\u001b[0m\u001b[0;34m\u001b[0m\u001b[0m\n\u001b[0m\u001b[1;32m      5\u001b[0m \u001b[0;31m# phone_dataset_feature_vector = feature_extraction(y_phone, sr_phone, phone_frame_size, phone_step_size)\u001b[0m\u001b[0;34m\u001b[0m\u001b[0;34m\u001b[0m\u001b[0;34m\u001b[0m\u001b[0m\n",
      "\u001b[0;31mNameError\u001b[0m: name 'y_phone_arr' is not defined"
     ]
    }
   ],
   "source": [
    "phone_frame_size = 256\n",
    "phone_step_size = 128\n",
    "\n",
    "phone_dataset_feature_vector_arr = [feature_extraction(y_phone_arr[i], sr_phone_arr[i], phone_frame_size, phone_step_size) for i in range(0, len(y_phone_arr))]\n",
    "# phone_dataset_feature_vector = feature_extraction(y_phone, sr_phone, phone_frame_size, phone_step_size)"
   ]
  },
  {
   "cell_type": "code",
   "execution_count": null,
   "metadata": {
    "id": "yXksrwEiVtB_"
   },
   "outputs": [],
   "source": [
    "eat_frame_size = 256\n",
    "eat_step_size = 128\n",
    "\n",
    "eat_dataset_feature_vector_arr = [feature_extraction(y_eat_arr[i], sr_eat_arr[i], eat_frame_size, eat_step_size) for i in range(0, len(y_eat_arr))]\n",
    "# eat_dataset_feature_vector = feature_extraction(y_eat, sr_eat, eat_frame_size, eat_step_size)"
   ]
  },
  {
   "cell_type": "code",
   "execution_count": null,
   "metadata": {
    "id": "OdNv9geai1m0"
   },
   "outputs": [],
   "source": [
    "lecture_frame_size = 256\n",
    "lecture_step_size = 128\n",
    "\n",
    "lecture_dataset_feature_vector_arr = [feature_extraction(y_lecture_arr[i], sr_lecture_arr[i], lecture_frame_size, lecture_step_size) for i in range(0, len(y_lecture_arr))]\n"
   ]
  },
  {
   "cell_type": "code",
   "execution_count": null,
   "metadata": {
    "id": "UvnVltS6VuzS"
   },
   "outputs": [],
   "source": [
    "# feature_input = np.vstack((eat_dataset_feature_vector,two_people_dataset_feature_vector,argue_dataset_feature_vector,person_alone_dataset_feature_vector,phone_dataset_feature_vector))\n",
    "# feature_input\n",
    "feature_input = np.vstack((two_people_dataset_feature_vector_arr,alone_dataset_feature_vector_arr, lecture_dataset_feature_vector_arr))"
   ]
  },
  {
   "cell_type": "markdown",
   "metadata": {
    "id": "RZM3SnK7dfTu"
   },
   "source": [
    "# Give them labels (non-eating: 0, eating: 1)"
   ]
  },
  {
   "cell_type": "code",
   "execution_count": null,
   "metadata": {
    "colab": {
     "base_uri": "https://localhost:8080/",
     "height": 167
    },
    "executionInfo": {
     "elapsed": 315,
     "status": "error",
     "timestamp": 1606634994269,
     "user": {
      "displayName": "Grace W Lee",
      "photoUrl": "",
      "userId": "07809344776771968288"
     },
     "user_tz": 360
    },
    "id": "8Bgcq7kcdcOr",
    "outputId": "a9a52f0a-2e47-4a87-90c0-39be017854a7"
   },
   "outputs": [
    {
     "ename": "NameError",
     "evalue": "ignored",
     "output_type": "error",
     "traceback": [
      "\u001b[0;31m---------------------------------------------------------------------------\u001b[0m",
      "\u001b[0;31mNameError\u001b[0m                                 Traceback (most recent call last)",
      "\u001b[0;32m<ipython-input-19-7917eb3b98a4>\u001b[0m in \u001b[0;36m<module>\u001b[0;34m()\u001b[0m\n\u001b[0;32m----> 1\u001b[0;31m \u001b[0meat_out\u001b[0m \u001b[0;34m=\u001b[0m \u001b[0mnp\u001b[0m\u001b[0;34m.\u001b[0m\u001b[0mfull\u001b[0m\u001b[0;34m(\u001b[0m\u001b[0;34m(\u001b[0m\u001b[0meat_dataset_feature_vector\u001b[0m\u001b[0;34m.\u001b[0m\u001b[0mshape\u001b[0m\u001b[0;34m[\u001b[0m\u001b[0;36m0\u001b[0m\u001b[0;34m]\u001b[0m\u001b[0;34m,\u001b[0m\u001b[0;36m1\u001b[0m\u001b[0;34m)\u001b[0m\u001b[0;34m,\u001b[0m \u001b[0;36m1\u001b[0m\u001b[0;34m)\u001b[0m\u001b[0;34m\u001b[0m\u001b[0;34m\u001b[0m\u001b[0m\n\u001b[0m",
      "\u001b[0;31mNameError\u001b[0m: name 'eat_dataset_feature_vector' is not defined"
     ]
    }
   ],
   "source": [
    "eat_out = np.full((eat_dataset_feature_vector.shape[0],1), 1)"
   ]
  },
  {
   "cell_type": "code",
   "execution_count": null,
   "metadata": {
    "colab": {
     "base_uri": "https://localhost:8080/",
     "height": 167
    },
    "executionInfo": {
     "elapsed": 661,
     "status": "error",
     "timestamp": 1606634994621,
     "user": {
      "displayName": "Grace W Lee",
      "photoUrl": "",
      "userId": "07809344776771968288"
     },
     "user_tz": 360
    },
    "id": "HGHAbyc3dohP",
    "outputId": "60ca59d8-725d-480c-ef52-c592c7341bc8"
   },
   "outputs": [
    {
     "ename": "NameError",
     "evalue": "ignored",
     "output_type": "error",
     "traceback": [
      "\u001b[0;31m---------------------------------------------------------------------------\u001b[0m",
      "\u001b[0;31mNameError\u001b[0m                                 Traceback (most recent call last)",
      "\u001b[0;32m<ipython-input-20-f6ea9490a810>\u001b[0m in \u001b[0;36m<module>\u001b[0;34m()\u001b[0m\n\u001b[0;32m----> 1\u001b[0;31m \u001b[0mtwo_out\u001b[0m \u001b[0;34m=\u001b[0m \u001b[0mnp\u001b[0m\u001b[0;34m.\u001b[0m\u001b[0mfull\u001b[0m\u001b[0;34m(\u001b[0m\u001b[0;34m(\u001b[0m\u001b[0mtwo_people_dataset_feature_vector\u001b[0m\u001b[0;34m.\u001b[0m\u001b[0mshape\u001b[0m\u001b[0;34m[\u001b[0m\u001b[0;36m0\u001b[0m\u001b[0;34m]\u001b[0m\u001b[0;34m,\u001b[0m\u001b[0;36m1\u001b[0m\u001b[0;34m)\u001b[0m\u001b[0;34m,\u001b[0m\u001b[0;36m0\u001b[0m\u001b[0;34m)\u001b[0m\u001b[0;34m\u001b[0m\u001b[0;34m\u001b[0m\u001b[0m\n\u001b[0m",
      "\u001b[0;31mNameError\u001b[0m: name 'two_people_dataset_feature_vector' is not defined"
     ]
    }
   ],
   "source": [
    "two_out = np.full((two_people_dataset_feature_vector.shape[0],1),0)"
   ]
  },
  {
   "cell_type": "code",
   "execution_count": null,
   "metadata": {
    "id": "SztbsiU3dp7w"
   },
   "outputs": [],
   "source": [
    "argue_out = np.full((argue_dataset_feature_vector.shape[0],1),0)"
   ]
  },
  {
   "cell_type": "code",
   "execution_count": null,
   "metadata": {
    "id": "V_YIewXddrRf"
   },
   "outputs": [],
   "source": [
    "person_out = np.full((person_alone_dataset_feature_vector.shape[0],1),0)"
   ]
  },
  {
   "cell_type": "code",
   "execution_count": null,
   "metadata": {
    "id": "DsaetmAbdsv-"
   },
   "outputs": [],
   "source": [
    "phone_out = np.full((phone_dataset_feature_vector.shape[0],1),0)"
   ]
  },
  {
   "cell_type": "code",
   "execution_count": null,
   "metadata": {
    "id": "HLgsnXKrduDs"
   },
   "outputs": [],
   "source": [
    "feature_output = np.concatenate((eat_out, two_out, argue_out, person_out, phone_out), axis=None)"
   ]
  },
  {
   "cell_type": "code",
   "execution_count": null,
   "metadata": {
    "id": "Da6_u74D6Vcy"
   },
   "outputs": [],
   "source": []
  },
  {
   "cell_type": "code",
   "execution_count": null,
   "metadata": {
    "id": "m1rNtrQzPedo"
   },
   "outputs": [],
   "source": [
    "eat_out = np.full(len(eat_dataset_feature_vector_arr), 0)"
   ]
  },
  {
   "cell_type": "code",
   "execution_count": null,
   "metadata": {
    "id": "3gvOKn31Pedo"
   },
   "outputs": [],
   "source": [
    "two_out = np.full(len(two_people_dataset_feature_vector_arr),1)"
   ]
  },
  {
   "cell_type": "code",
   "execution_count": null,
   "metadata": {
    "id": "x8bGUaYOPedo"
   },
   "outputs": [],
   "source": [
    "argue_out = np.full(len(argue_dataset_feature_vector_arr),2)"
   ]
  },
  {
   "cell_type": "code",
   "execution_count": null,
   "metadata": {
    "id": "xBZeXcmoPedo"
   },
   "outputs": [],
   "source": [
    "person_out = np.full(len(alone_dataset_feature_vector_arr),3)"
   ]
  },
  {
   "cell_type": "code",
   "execution_count": null,
   "metadata": {
    "id": "Rjanci9ZPedo"
   },
   "outputs": [],
   "source": [
    "phone_out = np.full(len(phone_dataset_feature_vector_arr),4)"
   ]
  },
  {
   "cell_type": "code",
   "execution_count": null,
   "metadata": {
    "id": "NF8HsRaNPedo"
   },
   "outputs": [],
   "source": [
    "lecture_out = np.full(len(lecture_dataset_feature_vector_arr),2)"
   ]
  },
  {
   "cell_type": "code",
   "execution_count": null,
   "metadata": {
    "id": "P8QQPCG66ovV"
   },
   "outputs": [],
   "source": [
    "feature_output = np.concatenate((two_out, person_out, lecture_out), axis=None)"
   ]
  },
  {
   "cell_type": "markdown",
   "metadata": {
    "id": "u1bEa3l3dxE7"
   },
   "source": [
    "# Split and train"
   ]
  },
  {
   "cell_type": "code",
   "execution_count": null,
   "metadata": {
    "id": "iTeB4TmFdvoS"
   },
   "outputs": [],
   "source": [
    "from sklearn.model_selection import train_test_split"
   ]
  },
  {
   "cell_type": "code",
   "execution_count": null,
   "metadata": {
    "colab": {
     "base_uri": "https://localhost:8080/",
     "height": 313
    },
    "executionInfo": {
     "elapsed": 373,
     "status": "error",
     "timestamp": 1606635143413,
     "user": {
      "displayName": "Grace W Lee",
      "photoUrl": "",
      "userId": "07809344776771968288"
     },
     "user_tz": 360
    },
    "id": "rgzG2NoZd1BQ",
    "outputId": "90a8121f-6ee3-4a93-ba76-4d7402b5fa6d"
   },
   "outputs": [
    {
     "ename": "ValueError",
     "evalue": "ignored",
     "output_type": "error",
     "traceback": [
      "\u001b[0;31m---------------------------------------------------------------------------\u001b[0m",
      "\u001b[0;31mValueError\u001b[0m                                Traceback (most recent call last)",
      "\u001b[0;32m<ipython-input-26-3155589fe141>\u001b[0m in \u001b[0;36m<module>\u001b[0;34m()\u001b[0m\n\u001b[0;32m----> 1\u001b[0;31m \u001b[0mX_train\u001b[0m\u001b[0;34m,\u001b[0m \u001b[0mX_test\u001b[0m\u001b[0;34m,\u001b[0m \u001b[0my_train\u001b[0m\u001b[0;34m,\u001b[0m \u001b[0my_test\u001b[0m \u001b[0;34m=\u001b[0m \u001b[0mtrain_test_split\u001b[0m\u001b[0;34m(\u001b[0m\u001b[0mfeature_input\u001b[0m\u001b[0;34m,\u001b[0m \u001b[0mfeature_output\u001b[0m\u001b[0;34m,\u001b[0m \u001b[0mtest_size\u001b[0m\u001b[0;34m=\u001b[0m\u001b[0;36m0.2\u001b[0m\u001b[0;34m,\u001b[0m \u001b[0mrandom_state\u001b[0m\u001b[0;34m=\u001b[0m\u001b[0;36m1\u001b[0m\u001b[0;34m,\u001b[0m \u001b[0mstratify\u001b[0m\u001b[0;34m=\u001b[0m\u001b[0mfeature_output\u001b[0m\u001b[0;34m)\u001b[0m\u001b[0;34m\u001b[0m\u001b[0;34m\u001b[0m\u001b[0m\n\u001b[0m",
      "\u001b[0;32m/usr/local/lib/python3.6/dist-packages/sklearn/model_selection/_split.py\u001b[0m in \u001b[0;36mtrain_test_split\u001b[0;34m(*arrays, **options)\u001b[0m\n\u001b[1;32m   2116\u001b[0m         \u001b[0;32mraise\u001b[0m \u001b[0mTypeError\u001b[0m\u001b[0;34m(\u001b[0m\u001b[0;34m\"Invalid parameters passed: %s\"\u001b[0m \u001b[0;34m%\u001b[0m \u001b[0mstr\u001b[0m\u001b[0;34m(\u001b[0m\u001b[0moptions\u001b[0m\u001b[0;34m)\u001b[0m\u001b[0;34m)\u001b[0m\u001b[0;34m\u001b[0m\u001b[0;34m\u001b[0m\u001b[0m\n\u001b[1;32m   2117\u001b[0m \u001b[0;34m\u001b[0m\u001b[0m\n\u001b[0;32m-> 2118\u001b[0;31m     \u001b[0marrays\u001b[0m \u001b[0;34m=\u001b[0m \u001b[0mindexable\u001b[0m\u001b[0;34m(\u001b[0m\u001b[0;34m*\u001b[0m\u001b[0marrays\u001b[0m\u001b[0;34m)\u001b[0m\u001b[0;34m\u001b[0m\u001b[0;34m\u001b[0m\u001b[0m\n\u001b[0m\u001b[1;32m   2119\u001b[0m \u001b[0;34m\u001b[0m\u001b[0m\n\u001b[1;32m   2120\u001b[0m     \u001b[0mn_samples\u001b[0m \u001b[0;34m=\u001b[0m \u001b[0m_num_samples\u001b[0m\u001b[0;34m(\u001b[0m\u001b[0marrays\u001b[0m\u001b[0;34m[\u001b[0m\u001b[0;36m0\u001b[0m\u001b[0;34m]\u001b[0m\u001b[0;34m)\u001b[0m\u001b[0;34m\u001b[0m\u001b[0;34m\u001b[0m\u001b[0m\n",
      "\u001b[0;32m/usr/local/lib/python3.6/dist-packages/sklearn/utils/validation.py\u001b[0m in \u001b[0;36mindexable\u001b[0;34m(*iterables)\u001b[0m\n\u001b[1;32m    246\u001b[0m     \"\"\"\n\u001b[1;32m    247\u001b[0m     \u001b[0mresult\u001b[0m \u001b[0;34m=\u001b[0m \u001b[0;34m[\u001b[0m\u001b[0m_make_indexable\u001b[0m\u001b[0;34m(\u001b[0m\u001b[0mX\u001b[0m\u001b[0;34m)\u001b[0m \u001b[0;32mfor\u001b[0m \u001b[0mX\u001b[0m \u001b[0;32min\u001b[0m \u001b[0miterables\u001b[0m\u001b[0;34m]\u001b[0m\u001b[0;34m\u001b[0m\u001b[0;34m\u001b[0m\u001b[0m\n\u001b[0;32m--> 248\u001b[0;31m     \u001b[0mcheck_consistent_length\u001b[0m\u001b[0;34m(\u001b[0m\u001b[0;34m*\u001b[0m\u001b[0mresult\u001b[0m\u001b[0;34m)\u001b[0m\u001b[0;34m\u001b[0m\u001b[0;34m\u001b[0m\u001b[0m\n\u001b[0m\u001b[1;32m    249\u001b[0m     \u001b[0;32mreturn\u001b[0m \u001b[0mresult\u001b[0m\u001b[0;34m\u001b[0m\u001b[0;34m\u001b[0m\u001b[0m\n\u001b[1;32m    250\u001b[0m \u001b[0;34m\u001b[0m\u001b[0m\n",
      "\u001b[0;32m/usr/local/lib/python3.6/dist-packages/sklearn/utils/validation.py\u001b[0m in \u001b[0;36mcheck_consistent_length\u001b[0;34m(*arrays)\u001b[0m\n\u001b[1;32m    210\u001b[0m     \u001b[0;32mif\u001b[0m \u001b[0mlen\u001b[0m\u001b[0;34m(\u001b[0m\u001b[0muniques\u001b[0m\u001b[0;34m)\u001b[0m \u001b[0;34m>\u001b[0m \u001b[0;36m1\u001b[0m\u001b[0;34m:\u001b[0m\u001b[0;34m\u001b[0m\u001b[0;34m\u001b[0m\u001b[0m\n\u001b[1;32m    211\u001b[0m         raise ValueError(\"Found input variables with inconsistent numbers of\"\n\u001b[0;32m--> 212\u001b[0;31m                          \" samples: %r\" % [int(l) for l in lengths])\n\u001b[0m\u001b[1;32m    213\u001b[0m \u001b[0;34m\u001b[0m\u001b[0m\n\u001b[1;32m    214\u001b[0m \u001b[0;34m\u001b[0m\u001b[0m\n",
      "\u001b[0;31mValueError\u001b[0m: Found input variables with inconsistent numbers of samples: [3, 30]"
     ]
    }
   ],
   "source": [
    "X_train, X_test, y_train, y_test = train_test_split(feature_input, feature_output, test_size=0.2, random_state=1, stratify=feature_output)"
   ]
  },
  {
   "cell_type": "markdown",
   "metadata": {
    "id": "uqP3KmH1d5Gv"
   },
   "source": [
    "# Learning Algorithms"
   ]
  },
  {
   "cell_type": "code",
   "execution_count": null,
   "metadata": {
    "colab": {
     "base_uri": "https://localhost:8080/"
    },
    "executionInfo": {
     "elapsed": 1955,
     "status": "ok",
     "timestamp": 1606426282240,
     "user": {
      "displayName": "Grace W Lee",
      "photoUrl": "",
      "userId": "07809344776771968288"
     },
     "user_tz": 360
    },
    "id": "HHmrF7Ozd2-D",
    "outputId": "e9ce386c-5493-4560-901e-ab835fea43be"
   },
   "outputs": [
    {
     "data": {
      "text/plain": [
       "KNeighborsClassifier(algorithm='auto', leaf_size=30, metric='minkowski',\n",
       "                     metric_params=None, n_jobs=None, n_neighbors=2, p=2,\n",
       "                     weights='uniform')"
      ]
     },
     "execution_count": 31,
     "metadata": {
      "tags": []
     },
     "output_type": "execute_result"
    }
   ],
   "source": [
    "from sklearn.neighbors import KNeighborsClassifier\n",
    "neigh = KNeighborsClassifier(n_neighbors=2)\n",
    "neigh.fit(X_train,y_train)"
   ]
  },
  {
   "cell_type": "code",
   "execution_count": null,
   "metadata": {
    "colab": {
     "base_uri": "https://localhost:8080/"
    },
    "executionInfo": {
     "elapsed": 217686,
     "status": "ok",
     "timestamp": 1606426505668,
     "user": {
      "displayName": "Grace W Lee",
      "photoUrl": "",
      "userId": "07809344776771968288"
     },
     "user_tz": 360
    },
    "id": "j-A1pa__d8Dr",
    "outputId": "6d8c036c-d6d4-43f8-d917-9b17179d54a6"
   },
   "outputs": [
    {
     "data": {
      "text/plain": [
       "0.9560818900151649"
      ]
     },
     "execution_count": 32,
     "metadata": {
      "tags": []
     },
     "output_type": "execute_result"
    }
   ],
   "source": [
    "neigh.predict(X_test)\n",
    "neigh.score(X_test, y_test)"
   ]
  },
  {
   "cell_type": "code",
   "execution_count": null,
   "metadata": {
    "id": "FQ57XEDrd98k"
   },
   "outputs": [],
   "source": [
    "from sklearn.neural_network import MLPClassifier\n",
    "mlp = MLPClassifier(random_state=1, max_iter=300)\n",
    "mlp = mlp.fit(X_train, y_train)"
   ]
  },
  {
   "cell_type": "code",
   "execution_count": null,
   "metadata": {
    "colab": {
     "base_uri": "https://localhost:8080/"
    },
    "executionInfo": {
     "elapsed": 1076,
     "status": "ok",
     "timestamp": 1606427340340,
     "user": {
      "displayName": "Grace W Lee",
      "photoUrl": "",
      "userId": "07809344776771968288"
     },
     "user_tz": 360
    },
    "id": "YVXZFoucfGgl",
    "outputId": "23e56b83-28af-410d-bbc0-e01e6172485d"
   },
   "outputs": [
    {
     "data": {
      "text/plain": [
       "0.9743195785776997"
      ]
     },
     "execution_count": 34,
     "metadata": {
      "tags": []
     },
     "output_type": "execute_result"
    }
   ],
   "source": [
    "mlp.predict(X_test)\n",
    "mlp.score(X_test, y_test)"
   ]
  },
  {
   "cell_type": "code",
   "execution_count": null,
   "metadata": {
    "id": "t0uH9icCh-lc"
   },
   "outputs": [],
   "source": []
  }
 ],
 "metadata": {
  "colab": {
   "name": "final_project.ipynb",
   "provenance": []
  },
  "kernelspec": {
   "display_name": "Python 3 (ipykernel)",
   "language": "python",
   "name": "python3"
  },
  "language_info": {
   "codemirror_mode": {
    "name": "ipython",
    "version": 3
   },
   "file_extension": ".py",
   "mimetype": "text/x-python",
   "name": "python",
   "nbconvert_exporter": "python",
   "pygments_lexer": "ipython3",
   "version": "3.9.14"
  }
 },
 "nbformat": 4,
 "nbformat_minor": 1
}
